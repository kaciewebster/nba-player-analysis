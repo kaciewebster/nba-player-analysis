{
 "cells": [
  {
   "cell_type": "markdown",
   "metadata": {},
   "source": [
    "# NBA Player Analysis: Are the type of players changing?"
   ]
  },
  {
   "cell_type": "markdown",
   "metadata": {},
   "source": [
    "# Imports"
   ]
  },
  {
   "cell_type": "code",
   "execution_count": 86,
   "metadata": {},
   "outputs": [],
   "source": [
    "import pandas as pd\n",
    "import numpy as np\n",
    "\n",
    "import matplotlib.pyplot as plt\n",
    "\n",
    "from sklearn.decomposition import PCA\n",
    "from sklearn.preprocessing import StandardScaler\n",
    "from sklearn.cluster import KMeans"
   ]
  },
  {
   "cell_type": "markdown",
   "metadata": {},
   "source": [
    "# Resources"
   ]
  },
  {
   "cell_type": "markdown",
   "metadata": {},
   "source": [
    "Data:\n",
    "\n",
    "https://www.kaggle.com/abhinavp23/nba-stats-player-and-team\n",
    "\n",
    "Other Projects:\n",
    "\n",
    "https://randerson112358.medium.com/nba-data-analysis-exploration-9293f311e0e8\n",
    "\n",
    "https://dribbleanalytics.blog/2019/04/positional-clustering/\n",
    "\n",
    "http://suruchifialoke.com/2017-06-01-clustering-nba-players/\n",
    "\n",
    "Rule Changes:\n",
    "\n",
    "https://cdn.nba.net/nba-drupal-prod/nba-rules-changes-history.pdf"
   ]
  },
  {
   "cell_type": "markdown",
   "metadata": {},
   "source": [
    "# Load Data"
   ]
  },
  {
   "cell_type": "code",
   "execution_count": 87,
   "metadata": {},
   "outputs": [],
   "source": [
    "data = pd.read_csv('../data/NBA_Season_Stats.csv')"
   ]
  },
  {
   "cell_type": "code",
   "execution_count": 88,
   "metadata": {},
   "outputs": [
    {
     "data": {
      "text/plain": [
       "(27943, 31)"
      ]
     },
     "execution_count": 88,
     "metadata": {},
     "output_type": "execute_result"
    }
   ],
   "source": [
    "data.shape"
   ]
  },
  {
   "cell_type": "code",
   "execution_count": 89,
   "metadata": {},
   "outputs": [],
   "source": [
    "data.sort_values('Year', inplace=True)"
   ]
  },
  {
   "cell_type": "markdown",
   "metadata": {},
   "source": [
    "# Clean Data"
   ]
  },
  {
   "cell_type": "code",
   "execution_count": 90,
   "metadata": {},
   "outputs": [],
   "source": [
    "# Removes second index column.\n",
    "data.drop(labels='Unnamed: 0', axis=1, inplace=True)"
   ]
  },
  {
   "cell_type": "code",
   "execution_count": 91,
   "metadata": {},
   "outputs": [],
   "source": [
    "# Removes rows with null values.\n",
    "data.dropna(axis=0, inplace=True)"
   ]
  },
  {
   "cell_type": "code",
   "execution_count": 92,
   "metadata": {},
   "outputs": [
    {
     "data": {
      "text/plain": [
       "(17363, 30)"
      ]
     },
     "execution_count": 92,
     "metadata": {},
     "output_type": "execute_result"
    }
   ],
   "source": [
    "data.shape"
   ]
  },
  {
   "cell_type": "code",
   "execution_count": 93,
   "metadata": {},
   "outputs": [],
   "source": [
    "# Strips * from names and records each player that was in the Hall of Fame as 1 and 0 otherwise.\n",
    "players = []\n",
    "hf = []\n",
    "\n",
    "for player_name in data['Player']:\n",
    "    if player_name.endswith('*'):\n",
    "        players.append(player_name.strip('*'))\n",
    "        hf.append(1)\n",
    "    else:\n",
    "        players.append(player_name)\n",
    "        hf.append(0)"
   ]
  },
  {
   "cell_type": "code",
   "execution_count": 94,
   "metadata": {},
   "outputs": [
    {
     "data": {
      "text/plain": [
       "17363"
      ]
     },
     "execution_count": 94,
     "metadata": {},
     "output_type": "execute_result"
    }
   ],
   "source": [
    "len(players)"
   ]
  },
  {
   "cell_type": "code",
   "execution_count": 95,
   "metadata": {},
   "outputs": [
    {
     "data": {
      "text/plain": [
       "17363"
      ]
     },
     "execution_count": 95,
     "metadata": {},
     "output_type": "execute_result"
    }
   ],
   "source": [
    "len(hf)"
   ]
  },
  {
   "cell_type": "code",
   "execution_count": 96,
   "metadata": {},
   "outputs": [],
   "source": [
    "# Replaces column, Player, with stripped names.\n",
    "# Adds column, HF, to indicate whether or not a player was inducted into the Hall of Fame\n",
    "data['Player'] = players\n",
    "data['HF'] = hf"
   ]
  },
  {
   "cell_type": "code",
   "execution_count": 97,
   "metadata": {},
   "outputs": [
    {
     "data": {
      "text/html": [
       "<div>\n",
       "<style scoped>\n",
       "    .dataframe tbody tr th:only-of-type {\n",
       "        vertical-align: middle;\n",
       "    }\n",
       "\n",
       "    .dataframe tbody tr th {\n",
       "        vertical-align: top;\n",
       "    }\n",
       "\n",
       "    .dataframe thead th {\n",
       "        text-align: right;\n",
       "    }\n",
       "</style>\n",
       "<table border=\"1\" class=\"dataframe\">\n",
       "  <thead>\n",
       "    <tr style=\"text-align: right;\">\n",
       "      <th></th>\n",
       "      <th>Year</th>\n",
       "      <th>Player</th>\n",
       "      <th>Pos</th>\n",
       "      <th>Age</th>\n",
       "      <th>Tm</th>\n",
       "      <th>G</th>\n",
       "      <th>GS</th>\n",
       "      <th>MP</th>\n",
       "      <th>FG</th>\n",
       "      <th>FGA</th>\n",
       "      <th>...</th>\n",
       "      <th>ORB</th>\n",
       "      <th>DRB</th>\n",
       "      <th>TRB</th>\n",
       "      <th>AST</th>\n",
       "      <th>STL</th>\n",
       "      <th>BLK</th>\n",
       "      <th>TOV</th>\n",
       "      <th>PF</th>\n",
       "      <th>PTS</th>\n",
       "      <th>HF</th>\n",
       "    </tr>\n",
       "  </thead>\n",
       "  <tbody>\n",
       "    <tr>\n",
       "      <th>5919</th>\n",
       "      <td>1980.0</td>\n",
       "      <td>Pete Maravich</td>\n",
       "      <td>SG</td>\n",
       "      <td>32.0</td>\n",
       "      <td>BOS</td>\n",
       "      <td>26.0</td>\n",
       "      <td>4.0</td>\n",
       "      <td>442.0</td>\n",
       "      <td>123.0</td>\n",
       "      <td>249.0</td>\n",
       "      <td>...</td>\n",
       "      <td>10.0</td>\n",
       "      <td>28.0</td>\n",
       "      <td>38.0</td>\n",
       "      <td>29.0</td>\n",
       "      <td>9.0</td>\n",
       "      <td>2.0</td>\n",
       "      <td>37.0</td>\n",
       "      <td>49.0</td>\n",
       "      <td>299.0</td>\n",
       "      <td>1</td>\n",
       "    </tr>\n",
       "    <tr>\n",
       "      <th>5917</th>\n",
       "      <td>1980.0</td>\n",
       "      <td>Pete Maravich</td>\n",
       "      <td>SG</td>\n",
       "      <td>32.0</td>\n",
       "      <td>TOT</td>\n",
       "      <td>43.0</td>\n",
       "      <td>4.0</td>\n",
       "      <td>964.0</td>\n",
       "      <td>244.0</td>\n",
       "      <td>543.0</td>\n",
       "      <td>...</td>\n",
       "      <td>17.0</td>\n",
       "      <td>61.0</td>\n",
       "      <td>78.0</td>\n",
       "      <td>83.0</td>\n",
       "      <td>24.0</td>\n",
       "      <td>6.0</td>\n",
       "      <td>82.0</td>\n",
       "      <td>79.0</td>\n",
       "      <td>589.0</td>\n",
       "      <td>1</td>\n",
       "    </tr>\n",
       "    <tr>\n",
       "      <th>5974</th>\n",
       "      <td>1980.0</td>\n",
       "      <td>Rick Robey</td>\n",
       "      <td>C</td>\n",
       "      <td>24.0</td>\n",
       "      <td>BOS</td>\n",
       "      <td>82.0</td>\n",
       "      <td>27.0</td>\n",
       "      <td>1918.0</td>\n",
       "      <td>379.0</td>\n",
       "      <td>727.0</td>\n",
       "      <td>...</td>\n",
       "      <td>209.0</td>\n",
       "      <td>321.0</td>\n",
       "      <td>530.0</td>\n",
       "      <td>92.0</td>\n",
       "      <td>53.0</td>\n",
       "      <td>15.0</td>\n",
       "      <td>151.0</td>\n",
       "      <td>244.0</td>\n",
       "      <td>942.0</td>\n",
       "      <td>0</td>\n",
       "    </tr>\n",
       "    <tr>\n",
       "      <th>5700</th>\n",
       "      <td>1980.0</td>\n",
       "      <td>Tiny Archibald</td>\n",
       "      <td>PG</td>\n",
       "      <td>31.0</td>\n",
       "      <td>BOS</td>\n",
       "      <td>80.0</td>\n",
       "      <td>80.0</td>\n",
       "      <td>2864.0</td>\n",
       "      <td>383.0</td>\n",
       "      <td>794.0</td>\n",
       "      <td>...</td>\n",
       "      <td>59.0</td>\n",
       "      <td>138.0</td>\n",
       "      <td>197.0</td>\n",
       "      <td>671.0</td>\n",
       "      <td>106.0</td>\n",
       "      <td>10.0</td>\n",
       "      <td>242.0</td>\n",
       "      <td>218.0</td>\n",
       "      <td>1131.0</td>\n",
       "      <td>1</td>\n",
       "    </tr>\n",
       "    <tr>\n",
       "      <th>5756</th>\n",
       "      <td>1980.0</td>\n",
       "      <td>Don Chaney</td>\n",
       "      <td>SG</td>\n",
       "      <td>33.0</td>\n",
       "      <td>BOS</td>\n",
       "      <td>60.0</td>\n",
       "      <td>0.0</td>\n",
       "      <td>523.0</td>\n",
       "      <td>67.0</td>\n",
       "      <td>189.0</td>\n",
       "      <td>...</td>\n",
       "      <td>31.0</td>\n",
       "      <td>42.0</td>\n",
       "      <td>73.0</td>\n",
       "      <td>38.0</td>\n",
       "      <td>31.0</td>\n",
       "      <td>11.0</td>\n",
       "      <td>33.0</td>\n",
       "      <td>80.0</td>\n",
       "      <td>167.0</td>\n",
       "      <td>0</td>\n",
       "    </tr>\n",
       "  </tbody>\n",
       "</table>\n",
       "<p>5 rows × 31 columns</p>\n",
       "</div>"
      ],
      "text/plain": [
       "        Year          Player Pos   Age   Tm     G    GS      MP     FG    FGA  \\\n",
       "5919  1980.0   Pete Maravich  SG  32.0  BOS  26.0   4.0   442.0  123.0  249.0   \n",
       "5917  1980.0   Pete Maravich  SG  32.0  TOT  43.0   4.0   964.0  244.0  543.0   \n",
       "5974  1980.0      Rick Robey   C  24.0  BOS  82.0  27.0  1918.0  379.0  727.0   \n",
       "5700  1980.0  Tiny Archibald  PG  31.0  BOS  80.0  80.0  2864.0  383.0  794.0   \n",
       "5756  1980.0      Don Chaney  SG  33.0  BOS  60.0   0.0   523.0   67.0  189.0   \n",
       "\n",
       "      ...    ORB    DRB    TRB    AST    STL   BLK    TOV     PF     PTS  HF  \n",
       "5919  ...   10.0   28.0   38.0   29.0    9.0   2.0   37.0   49.0   299.0   1  \n",
       "5917  ...   17.0   61.0   78.0   83.0   24.0   6.0   82.0   79.0   589.0   1  \n",
       "5974  ...  209.0  321.0  530.0   92.0   53.0  15.0  151.0  244.0   942.0   0  \n",
       "5700  ...   59.0  138.0  197.0  671.0  106.0  10.0  242.0  218.0  1131.0   1  \n",
       "5756  ...   31.0   42.0   73.0   38.0   31.0  11.0   33.0   80.0   167.0   0  \n",
       "\n",
       "[5 rows x 31 columns]"
      ]
     },
     "execution_count": 97,
     "metadata": {},
     "output_type": "execute_result"
    }
   ],
   "source": [
    "data.head()"
   ]
  },
  {
   "cell_type": "code",
   "execution_count": 98,
   "metadata": {},
   "outputs": [
    {
     "data": {
      "text/plain": [
       "Index(['Year', 'Player', 'Pos', 'Age', 'Tm', 'G', 'GS', 'MP', 'FG', 'FGA',\n",
       "       'FG%', '3P', '3PA', '3P%', '2P', '2PA', '2P%', 'eFG%', 'FT', 'FTA',\n",
       "       'FT%', 'ORB', 'DRB', 'TRB', 'AST', 'STL', 'BLK', 'TOV', 'PF', 'PTS',\n",
       "       'HF'],\n",
       "      dtype='object')"
      ]
     },
     "execution_count": 98,
     "metadata": {},
     "output_type": "execute_result"
    }
   ],
   "source": [
    "data.columns"
   ]
  },
  {
   "cell_type": "code",
   "execution_count": 99,
   "metadata": {},
   "outputs": [],
   "source": [
    "# Sums up player's season stats if they were traded within a season.\n",
    "players = data.groupby(['Year', 'Player', 'Pos'])[['G', 'GS', 'MP', 'FG', 'FGA',\n",
    "       'FG%', '3P', '3PA', '3P%', '2P', '2PA', '2P%', 'eFG%', 'FT', 'FTA',\n",
    "       'FT%', 'ORB', 'DRB', 'TRB', 'AST', 'STL', 'BLK', 'TOV', 'PF', 'PTS']].sum().reset_index()"
   ]
  },
  {
   "cell_type": "code",
   "execution_count": 100,
   "metadata": {},
   "outputs": [],
   "source": [
    "# Adds the column, HF.\n",
    "players['HF'] = data.groupby(['Year', 'Player', 'Pos'])['HF'].max().reset_index()['HF']"
   ]
  },
  {
   "cell_type": "code",
   "execution_count": 101,
   "metadata": {},
   "outputs": [
    {
     "data": {
      "text/html": [
       "<div>\n",
       "<style scoped>\n",
       "    .dataframe tbody tr th:only-of-type {\n",
       "        vertical-align: middle;\n",
       "    }\n",
       "\n",
       "    .dataframe tbody tr th {\n",
       "        vertical-align: top;\n",
       "    }\n",
       "\n",
       "    .dataframe thead th {\n",
       "        text-align: right;\n",
       "    }\n",
       "</style>\n",
       "<table border=\"1\" class=\"dataframe\">\n",
       "  <thead>\n",
       "    <tr style=\"text-align: right;\">\n",
       "      <th></th>\n",
       "      <th>Year</th>\n",
       "      <th>Player</th>\n",
       "      <th>Pos</th>\n",
       "      <th>G</th>\n",
       "      <th>GS</th>\n",
       "      <th>MP</th>\n",
       "      <th>FG</th>\n",
       "      <th>FGA</th>\n",
       "      <th>FG%</th>\n",
       "      <th>3P</th>\n",
       "      <th>...</th>\n",
       "      <th>ORB</th>\n",
       "      <th>DRB</th>\n",
       "      <th>TRB</th>\n",
       "      <th>AST</th>\n",
       "      <th>STL</th>\n",
       "      <th>BLK</th>\n",
       "      <th>TOV</th>\n",
       "      <th>PF</th>\n",
       "      <th>PTS</th>\n",
       "      <th>HF</th>\n",
       "    </tr>\n",
       "  </thead>\n",
       "  <tbody>\n",
       "    <tr>\n",
       "      <th>0</th>\n",
       "      <td>1980.0</td>\n",
       "      <td>Chris Ford</td>\n",
       "      <td>SG</td>\n",
       "      <td>73.0</td>\n",
       "      <td>73.0</td>\n",
       "      <td>2115.0</td>\n",
       "      <td>330.0</td>\n",
       "      <td>709.0</td>\n",
       "      <td>0.465</td>\n",
       "      <td>70.0</td>\n",
       "      <td>...</td>\n",
       "      <td>77.0</td>\n",
       "      <td>104.0</td>\n",
       "      <td>181.0</td>\n",
       "      <td>215.0</td>\n",
       "      <td>111.0</td>\n",
       "      <td>27.0</td>\n",
       "      <td>105.0</td>\n",
       "      <td>178.0</td>\n",
       "      <td>816.0</td>\n",
       "      <td>0</td>\n",
       "    </tr>\n",
       "    <tr>\n",
       "      <th>1</th>\n",
       "      <td>1980.0</td>\n",
       "      <td>Dave Cowens</td>\n",
       "      <td>C</td>\n",
       "      <td>66.0</td>\n",
       "      <td>55.0</td>\n",
       "      <td>2159.0</td>\n",
       "      <td>422.0</td>\n",
       "      <td>932.0</td>\n",
       "      <td>0.453</td>\n",
       "      <td>1.0</td>\n",
       "      <td>...</td>\n",
       "      <td>126.0</td>\n",
       "      <td>408.0</td>\n",
       "      <td>534.0</td>\n",
       "      <td>206.0</td>\n",
       "      <td>69.0</td>\n",
       "      <td>61.0</td>\n",
       "      <td>108.0</td>\n",
       "      <td>216.0</td>\n",
       "      <td>940.0</td>\n",
       "      <td>1</td>\n",
       "    </tr>\n",
       "    <tr>\n",
       "      <th>2</th>\n",
       "      <td>1980.0</td>\n",
       "      <td>Don Chaney</td>\n",
       "      <td>SG</td>\n",
       "      <td>60.0</td>\n",
       "      <td>0.0</td>\n",
       "      <td>523.0</td>\n",
       "      <td>67.0</td>\n",
       "      <td>189.0</td>\n",
       "      <td>0.354</td>\n",
       "      <td>1.0</td>\n",
       "      <td>...</td>\n",
       "      <td>31.0</td>\n",
       "      <td>42.0</td>\n",
       "      <td>73.0</td>\n",
       "      <td>38.0</td>\n",
       "      <td>31.0</td>\n",
       "      <td>11.0</td>\n",
       "      <td>33.0</td>\n",
       "      <td>80.0</td>\n",
       "      <td>167.0</td>\n",
       "      <td>0</td>\n",
       "    </tr>\n",
       "    <tr>\n",
       "      <th>3</th>\n",
       "      <td>1980.0</td>\n",
       "      <td>Gerald Henderson</td>\n",
       "      <td>PG</td>\n",
       "      <td>76.0</td>\n",
       "      <td>2.0</td>\n",
       "      <td>1061.0</td>\n",
       "      <td>191.0</td>\n",
       "      <td>382.0</td>\n",
       "      <td>0.500</td>\n",
       "      <td>2.0</td>\n",
       "      <td>...</td>\n",
       "      <td>37.0</td>\n",
       "      <td>46.0</td>\n",
       "      <td>83.0</td>\n",
       "      <td>147.0</td>\n",
       "      <td>45.0</td>\n",
       "      <td>15.0</td>\n",
       "      <td>109.0</td>\n",
       "      <td>96.0</td>\n",
       "      <td>473.0</td>\n",
       "      <td>0</td>\n",
       "    </tr>\n",
       "    <tr>\n",
       "      <th>4</th>\n",
       "      <td>1980.0</td>\n",
       "      <td>Jeff Judkins</td>\n",
       "      <td>SF</td>\n",
       "      <td>65.0</td>\n",
       "      <td>0.0</td>\n",
       "      <td>674.0</td>\n",
       "      <td>139.0</td>\n",
       "      <td>276.0</td>\n",
       "      <td>0.504</td>\n",
       "      <td>11.0</td>\n",
       "      <td>...</td>\n",
       "      <td>32.0</td>\n",
       "      <td>34.0</td>\n",
       "      <td>66.0</td>\n",
       "      <td>47.0</td>\n",
       "      <td>29.0</td>\n",
       "      <td>5.0</td>\n",
       "      <td>49.0</td>\n",
       "      <td>91.0</td>\n",
       "      <td>351.0</td>\n",
       "      <td>0</td>\n",
       "    </tr>\n",
       "    <tr>\n",
       "      <th>...</th>\n",
       "      <td>...</td>\n",
       "      <td>...</td>\n",
       "      <td>...</td>\n",
       "      <td>...</td>\n",
       "      <td>...</td>\n",
       "      <td>...</td>\n",
       "      <td>...</td>\n",
       "      <td>...</td>\n",
       "      <td>...</td>\n",
       "      <td>...</td>\n",
       "      <td>...</td>\n",
       "      <td>...</td>\n",
       "      <td>...</td>\n",
       "      <td>...</td>\n",
       "      <td>...</td>\n",
       "      <td>...</td>\n",
       "      <td>...</td>\n",
       "      <td>...</td>\n",
       "      <td>...</td>\n",
       "      <td>...</td>\n",
       "      <td>...</td>\n",
       "    </tr>\n",
       "    <tr>\n",
       "      <th>13719</th>\n",
       "      <td>2019.0</td>\n",
       "      <td>Zach Collins</td>\n",
       "      <td>C</td>\n",
       "      <td>77.0</td>\n",
       "      <td>0.0</td>\n",
       "      <td>17.6</td>\n",
       "      <td>2.5</td>\n",
       "      <td>5.2</td>\n",
       "      <td>0.473</td>\n",
       "      <td>0.5</td>\n",
       "      <td>...</td>\n",
       "      <td>1.4</td>\n",
       "      <td>2.8</td>\n",
       "      <td>4.2</td>\n",
       "      <td>0.9</td>\n",
       "      <td>0.3</td>\n",
       "      <td>0.9</td>\n",
       "      <td>1.0</td>\n",
       "      <td>2.3</td>\n",
       "      <td>6.6</td>\n",
       "      <td>0</td>\n",
       "    </tr>\n",
       "    <tr>\n",
       "      <th>13720</th>\n",
       "      <td>2019.0</td>\n",
       "      <td>Zach LaVine</td>\n",
       "      <td>SG</td>\n",
       "      <td>63.0</td>\n",
       "      <td>62.0</td>\n",
       "      <td>34.5</td>\n",
       "      <td>8.4</td>\n",
       "      <td>18.0</td>\n",
       "      <td>0.467</td>\n",
       "      <td>1.9</td>\n",
       "      <td>...</td>\n",
       "      <td>0.6</td>\n",
       "      <td>4.0</td>\n",
       "      <td>4.7</td>\n",
       "      <td>4.5</td>\n",
       "      <td>1.0</td>\n",
       "      <td>0.4</td>\n",
       "      <td>3.4</td>\n",
       "      <td>2.2</td>\n",
       "      <td>23.7</td>\n",
       "      <td>0</td>\n",
       "    </tr>\n",
       "    <tr>\n",
       "      <th>13721</th>\n",
       "      <td>2019.0</td>\n",
       "      <td>Zaza Pachulia</td>\n",
       "      <td>C</td>\n",
       "      <td>68.0</td>\n",
       "      <td>3.0</td>\n",
       "      <td>12.9</td>\n",
       "      <td>1.3</td>\n",
       "      <td>2.8</td>\n",
       "      <td>0.440</td>\n",
       "      <td>0.0</td>\n",
       "      <td>...</td>\n",
       "      <td>1.5</td>\n",
       "      <td>2.4</td>\n",
       "      <td>3.9</td>\n",
       "      <td>1.3</td>\n",
       "      <td>0.5</td>\n",
       "      <td>0.3</td>\n",
       "      <td>0.8</td>\n",
       "      <td>2.2</td>\n",
       "      <td>3.9</td>\n",
       "      <td>0</td>\n",
       "    </tr>\n",
       "    <tr>\n",
       "      <th>13722</th>\n",
       "      <td>2019.0</td>\n",
       "      <td>Zhaire Smith</td>\n",
       "      <td>SG</td>\n",
       "      <td>6.0</td>\n",
       "      <td>2.0</td>\n",
       "      <td>18.5</td>\n",
       "      <td>2.3</td>\n",
       "      <td>5.7</td>\n",
       "      <td>0.412</td>\n",
       "      <td>1.0</td>\n",
       "      <td>...</td>\n",
       "      <td>0.5</td>\n",
       "      <td>1.7</td>\n",
       "      <td>2.2</td>\n",
       "      <td>1.7</td>\n",
       "      <td>0.3</td>\n",
       "      <td>0.3</td>\n",
       "      <td>1.0</td>\n",
       "      <td>1.3</td>\n",
       "      <td>6.7</td>\n",
       "      <td>0</td>\n",
       "    </tr>\n",
       "    <tr>\n",
       "      <th>13723</th>\n",
       "      <td>2019.0</td>\n",
       "      <td>Álex Abrines</td>\n",
       "      <td>SG</td>\n",
       "      <td>31.0</td>\n",
       "      <td>2.0</td>\n",
       "      <td>19.0</td>\n",
       "      <td>1.8</td>\n",
       "      <td>5.1</td>\n",
       "      <td>0.357</td>\n",
       "      <td>1.3</td>\n",
       "      <td>...</td>\n",
       "      <td>0.2</td>\n",
       "      <td>1.4</td>\n",
       "      <td>1.5</td>\n",
       "      <td>0.6</td>\n",
       "      <td>0.5</td>\n",
       "      <td>0.2</td>\n",
       "      <td>0.5</td>\n",
       "      <td>1.7</td>\n",
       "      <td>5.3</td>\n",
       "      <td>0</td>\n",
       "    </tr>\n",
       "  </tbody>\n",
       "</table>\n",
       "<p>13724 rows × 29 columns</p>\n",
       "</div>"
      ],
      "text/plain": [
       "         Year            Player Pos     G    GS      MP     FG    FGA    FG%  \\\n",
       "0      1980.0        Chris Ford  SG  73.0  73.0  2115.0  330.0  709.0  0.465   \n",
       "1      1980.0       Dave Cowens   C  66.0  55.0  2159.0  422.0  932.0  0.453   \n",
       "2      1980.0        Don Chaney  SG  60.0   0.0   523.0   67.0  189.0  0.354   \n",
       "3      1980.0  Gerald Henderson  PG  76.0   2.0  1061.0  191.0  382.0  0.500   \n",
       "4      1980.0      Jeff Judkins  SF  65.0   0.0   674.0  139.0  276.0  0.504   \n",
       "...       ...               ...  ..   ...   ...     ...    ...    ...    ...   \n",
       "13719  2019.0      Zach Collins   C  77.0   0.0    17.6    2.5    5.2  0.473   \n",
       "13720  2019.0       Zach LaVine  SG  63.0  62.0    34.5    8.4   18.0  0.467   \n",
       "13721  2019.0     Zaza Pachulia   C  68.0   3.0    12.9    1.3    2.8  0.440   \n",
       "13722  2019.0      Zhaire Smith  SG   6.0   2.0    18.5    2.3    5.7  0.412   \n",
       "13723  2019.0      Álex Abrines  SG  31.0   2.0    19.0    1.8    5.1  0.357   \n",
       "\n",
       "         3P  ...    ORB    DRB    TRB    AST    STL   BLK    TOV     PF  \\\n",
       "0      70.0  ...   77.0  104.0  181.0  215.0  111.0  27.0  105.0  178.0   \n",
       "1       1.0  ...  126.0  408.0  534.0  206.0   69.0  61.0  108.0  216.0   \n",
       "2       1.0  ...   31.0   42.0   73.0   38.0   31.0  11.0   33.0   80.0   \n",
       "3       2.0  ...   37.0   46.0   83.0  147.0   45.0  15.0  109.0   96.0   \n",
       "4      11.0  ...   32.0   34.0   66.0   47.0   29.0   5.0   49.0   91.0   \n",
       "...     ...  ...    ...    ...    ...    ...    ...   ...    ...    ...   \n",
       "13719   0.5  ...    1.4    2.8    4.2    0.9    0.3   0.9    1.0    2.3   \n",
       "13720   1.9  ...    0.6    4.0    4.7    4.5    1.0   0.4    3.4    2.2   \n",
       "13721   0.0  ...    1.5    2.4    3.9    1.3    0.5   0.3    0.8    2.2   \n",
       "13722   1.0  ...    0.5    1.7    2.2    1.7    0.3   0.3    1.0    1.3   \n",
       "13723   1.3  ...    0.2    1.4    1.5    0.6    0.5   0.2    0.5    1.7   \n",
       "\n",
       "         PTS  HF  \n",
       "0      816.0   0  \n",
       "1      940.0   1  \n",
       "2      167.0   0  \n",
       "3      473.0   0  \n",
       "4      351.0   0  \n",
       "...      ...  ..  \n",
       "13719    6.6   0  \n",
       "13720   23.7   0  \n",
       "13721    3.9   0  \n",
       "13722    6.7   0  \n",
       "13723    5.3   0  \n",
       "\n",
       "[13724 rows x 29 columns]"
      ]
     },
     "execution_count": 101,
     "metadata": {},
     "output_type": "execute_result"
    }
   ],
   "source": [
    "players"
   ]
  },
  {
   "cell_type": "code",
   "execution_count": 102,
   "metadata": {},
   "outputs": [],
   "source": [
    "# Recalculates the percentage columns.\n",
    "players['FG%'] = players['FG']/players['FGA']\n",
    "players['FT%'] = players['FT']/players['FTA']\n",
    "players['3P%'] = players['3P']/players['3PA']\n",
    "players['2P%'] = players['2P']/players['2PA']\n",
    "players['eFG%'] = (players['FG'] + 0.5*players['3P'])/players['FGA']"
   ]
  },
  {
   "cell_type": "code",
   "execution_count": 103,
   "metadata": {},
   "outputs": [],
   "source": [
    "# Changes the year column to an integer\n",
    "players['Year'] = players['Year'].astype(int)"
   ]
  },
  {
   "cell_type": "code",
   "execution_count": 110,
   "metadata": {},
   "outputs": [],
   "source": [
    "# Transforms categorical column, Pos, into dummy variables.\n",
    "players = pd.get_dummies(players, columns=['Pos'])"
   ]
  },
  {
   "cell_type": "code",
   "execution_count": 111,
   "metadata": {},
   "outputs": [
    {
     "data": {
      "text/plain": [
       "(13724, 44)"
      ]
     },
     "execution_count": 111,
     "metadata": {},
     "output_type": "execute_result"
    }
   ],
   "source": [
    "# Shape of new dataframe.\n",
    "players.shape"
   ]
  },
  {
   "cell_type": "code",
   "execution_count": 54,
   "metadata": {},
   "outputs": [
    {
     "data": {
      "text/plain": [
       "13724"
      ]
     },
     "execution_count": 54,
     "metadata": {},
     "output_type": "execute_result"
    }
   ],
   "source": [
    "# Number of unique players for each year.\n",
    "len(players.groupby(['Year', 'Player', 'Pos'])['Player'].nunique())"
   ]
  },
  {
   "cell_type": "code",
   "execution_count": 56,
   "metadata": {},
   "outputs": [],
   "source": [
    "# Drops any leftover null values.\n",
    "players.dropna(axis=0, inplace=True)"
   ]
  },
  {
   "cell_type": "code",
   "execution_count": 112,
   "metadata": {},
   "outputs": [
    {
     "data": {
      "text/html": [
       "<div>\n",
       "<style scoped>\n",
       "    .dataframe tbody tr th:only-of-type {\n",
       "        vertical-align: middle;\n",
       "    }\n",
       "\n",
       "    .dataframe tbody tr th {\n",
       "        vertical-align: top;\n",
       "    }\n",
       "\n",
       "    .dataframe thead th {\n",
       "        text-align: right;\n",
       "    }\n",
       "</style>\n",
       "<table border=\"1\" class=\"dataframe\">\n",
       "  <thead>\n",
       "    <tr style=\"text-align: right;\">\n",
       "      <th></th>\n",
       "      <th>Year</th>\n",
       "      <th>Player</th>\n",
       "      <th>G</th>\n",
       "      <th>GS</th>\n",
       "      <th>MP</th>\n",
       "      <th>FG</th>\n",
       "      <th>FGA</th>\n",
       "      <th>FG%</th>\n",
       "      <th>3P</th>\n",
       "      <th>3PA</th>\n",
       "      <th>...</th>\n",
       "      <th>Pos_PG</th>\n",
       "      <th>Pos_PG-SF</th>\n",
       "      <th>Pos_PG-SG</th>\n",
       "      <th>Pos_SF</th>\n",
       "      <th>Pos_SF-PF</th>\n",
       "      <th>Pos_SF-SG</th>\n",
       "      <th>Pos_SG</th>\n",
       "      <th>Pos_SG-PF</th>\n",
       "      <th>Pos_SG-PG</th>\n",
       "      <th>Pos_SG-SF</th>\n",
       "    </tr>\n",
       "  </thead>\n",
       "  <tbody>\n",
       "    <tr>\n",
       "      <th>0</th>\n",
       "      <td>1980</td>\n",
       "      <td>Chris Ford</td>\n",
       "      <td>73.0</td>\n",
       "      <td>73.0</td>\n",
       "      <td>2115.0</td>\n",
       "      <td>330.0</td>\n",
       "      <td>709.0</td>\n",
       "      <td>0.465444</td>\n",
       "      <td>70.0</td>\n",
       "      <td>164.0</td>\n",
       "      <td>...</td>\n",
       "      <td>0</td>\n",
       "      <td>0</td>\n",
       "      <td>0</td>\n",
       "      <td>0</td>\n",
       "      <td>0</td>\n",
       "      <td>0</td>\n",
       "      <td>1</td>\n",
       "      <td>0</td>\n",
       "      <td>0</td>\n",
       "      <td>0</td>\n",
       "    </tr>\n",
       "    <tr>\n",
       "      <th>1</th>\n",
       "      <td>1980</td>\n",
       "      <td>Dave Cowens</td>\n",
       "      <td>66.0</td>\n",
       "      <td>55.0</td>\n",
       "      <td>2159.0</td>\n",
       "      <td>422.0</td>\n",
       "      <td>932.0</td>\n",
       "      <td>0.452790</td>\n",
       "      <td>1.0</td>\n",
       "      <td>12.0</td>\n",
       "      <td>...</td>\n",
       "      <td>0</td>\n",
       "      <td>0</td>\n",
       "      <td>0</td>\n",
       "      <td>0</td>\n",
       "      <td>0</td>\n",
       "      <td>0</td>\n",
       "      <td>0</td>\n",
       "      <td>0</td>\n",
       "      <td>0</td>\n",
       "      <td>0</td>\n",
       "    </tr>\n",
       "    <tr>\n",
       "      <th>2</th>\n",
       "      <td>1980</td>\n",
       "      <td>Don Chaney</td>\n",
       "      <td>60.0</td>\n",
       "      <td>0.0</td>\n",
       "      <td>523.0</td>\n",
       "      <td>67.0</td>\n",
       "      <td>189.0</td>\n",
       "      <td>0.354497</td>\n",
       "      <td>1.0</td>\n",
       "      <td>6.0</td>\n",
       "      <td>...</td>\n",
       "      <td>0</td>\n",
       "      <td>0</td>\n",
       "      <td>0</td>\n",
       "      <td>0</td>\n",
       "      <td>0</td>\n",
       "      <td>0</td>\n",
       "      <td>1</td>\n",
       "      <td>0</td>\n",
       "      <td>0</td>\n",
       "      <td>0</td>\n",
       "    </tr>\n",
       "    <tr>\n",
       "      <th>3</th>\n",
       "      <td>1980</td>\n",
       "      <td>Gerald Henderson</td>\n",
       "      <td>76.0</td>\n",
       "      <td>2.0</td>\n",
       "      <td>1061.0</td>\n",
       "      <td>191.0</td>\n",
       "      <td>382.0</td>\n",
       "      <td>0.500000</td>\n",
       "      <td>2.0</td>\n",
       "      <td>6.0</td>\n",
       "      <td>...</td>\n",
       "      <td>1</td>\n",
       "      <td>0</td>\n",
       "      <td>0</td>\n",
       "      <td>0</td>\n",
       "      <td>0</td>\n",
       "      <td>0</td>\n",
       "      <td>0</td>\n",
       "      <td>0</td>\n",
       "      <td>0</td>\n",
       "      <td>0</td>\n",
       "    </tr>\n",
       "    <tr>\n",
       "      <th>4</th>\n",
       "      <td>1980</td>\n",
       "      <td>Jeff Judkins</td>\n",
       "      <td>65.0</td>\n",
       "      <td>0.0</td>\n",
       "      <td>674.0</td>\n",
       "      <td>139.0</td>\n",
       "      <td>276.0</td>\n",
       "      <td>0.503623</td>\n",
       "      <td>11.0</td>\n",
       "      <td>27.0</td>\n",
       "      <td>...</td>\n",
       "      <td>0</td>\n",
       "      <td>0</td>\n",
       "      <td>0</td>\n",
       "      <td>1</td>\n",
       "      <td>0</td>\n",
       "      <td>0</td>\n",
       "      <td>0</td>\n",
       "      <td>0</td>\n",
       "      <td>0</td>\n",
       "      <td>0</td>\n",
       "    </tr>\n",
       "    <tr>\n",
       "      <th>...</th>\n",
       "      <td>...</td>\n",
       "      <td>...</td>\n",
       "      <td>...</td>\n",
       "      <td>...</td>\n",
       "      <td>...</td>\n",
       "      <td>...</td>\n",
       "      <td>...</td>\n",
       "      <td>...</td>\n",
       "      <td>...</td>\n",
       "      <td>...</td>\n",
       "      <td>...</td>\n",
       "      <td>...</td>\n",
       "      <td>...</td>\n",
       "      <td>...</td>\n",
       "      <td>...</td>\n",
       "      <td>...</td>\n",
       "      <td>...</td>\n",
       "      <td>...</td>\n",
       "      <td>...</td>\n",
       "      <td>...</td>\n",
       "      <td>...</td>\n",
       "    </tr>\n",
       "    <tr>\n",
       "      <th>13719</th>\n",
       "      <td>2019</td>\n",
       "      <td>Zach Collins</td>\n",
       "      <td>77.0</td>\n",
       "      <td>0.0</td>\n",
       "      <td>17.6</td>\n",
       "      <td>2.5</td>\n",
       "      <td>5.2</td>\n",
       "      <td>0.480769</td>\n",
       "      <td>0.5</td>\n",
       "      <td>1.6</td>\n",
       "      <td>...</td>\n",
       "      <td>0</td>\n",
       "      <td>0</td>\n",
       "      <td>0</td>\n",
       "      <td>0</td>\n",
       "      <td>0</td>\n",
       "      <td>0</td>\n",
       "      <td>0</td>\n",
       "      <td>0</td>\n",
       "      <td>0</td>\n",
       "      <td>0</td>\n",
       "    </tr>\n",
       "    <tr>\n",
       "      <th>13720</th>\n",
       "      <td>2019</td>\n",
       "      <td>Zach LaVine</td>\n",
       "      <td>63.0</td>\n",
       "      <td>62.0</td>\n",
       "      <td>34.5</td>\n",
       "      <td>8.4</td>\n",
       "      <td>18.0</td>\n",
       "      <td>0.466667</td>\n",
       "      <td>1.9</td>\n",
       "      <td>5.1</td>\n",
       "      <td>...</td>\n",
       "      <td>0</td>\n",
       "      <td>0</td>\n",
       "      <td>0</td>\n",
       "      <td>0</td>\n",
       "      <td>0</td>\n",
       "      <td>0</td>\n",
       "      <td>1</td>\n",
       "      <td>0</td>\n",
       "      <td>0</td>\n",
       "      <td>0</td>\n",
       "    </tr>\n",
       "    <tr>\n",
       "      <th>13721</th>\n",
       "      <td>2019</td>\n",
       "      <td>Zaza Pachulia</td>\n",
       "      <td>68.0</td>\n",
       "      <td>3.0</td>\n",
       "      <td>12.9</td>\n",
       "      <td>1.3</td>\n",
       "      <td>2.8</td>\n",
       "      <td>0.464286</td>\n",
       "      <td>0.0</td>\n",
       "      <td>0.1</td>\n",
       "      <td>...</td>\n",
       "      <td>0</td>\n",
       "      <td>0</td>\n",
       "      <td>0</td>\n",
       "      <td>0</td>\n",
       "      <td>0</td>\n",
       "      <td>0</td>\n",
       "      <td>0</td>\n",
       "      <td>0</td>\n",
       "      <td>0</td>\n",
       "      <td>0</td>\n",
       "    </tr>\n",
       "    <tr>\n",
       "      <th>13722</th>\n",
       "      <td>2019</td>\n",
       "      <td>Zhaire Smith</td>\n",
       "      <td>6.0</td>\n",
       "      <td>2.0</td>\n",
       "      <td>18.5</td>\n",
       "      <td>2.3</td>\n",
       "      <td>5.7</td>\n",
       "      <td>0.403509</td>\n",
       "      <td>1.0</td>\n",
       "      <td>2.7</td>\n",
       "      <td>...</td>\n",
       "      <td>0</td>\n",
       "      <td>0</td>\n",
       "      <td>0</td>\n",
       "      <td>0</td>\n",
       "      <td>0</td>\n",
       "      <td>0</td>\n",
       "      <td>1</td>\n",
       "      <td>0</td>\n",
       "      <td>0</td>\n",
       "      <td>0</td>\n",
       "    </tr>\n",
       "    <tr>\n",
       "      <th>13723</th>\n",
       "      <td>2019</td>\n",
       "      <td>Álex Abrines</td>\n",
       "      <td>31.0</td>\n",
       "      <td>2.0</td>\n",
       "      <td>19.0</td>\n",
       "      <td>1.8</td>\n",
       "      <td>5.1</td>\n",
       "      <td>0.352941</td>\n",
       "      <td>1.3</td>\n",
       "      <td>4.1</td>\n",
       "      <td>...</td>\n",
       "      <td>0</td>\n",
       "      <td>0</td>\n",
       "      <td>0</td>\n",
       "      <td>0</td>\n",
       "      <td>0</td>\n",
       "      <td>0</td>\n",
       "      <td>1</td>\n",
       "      <td>0</td>\n",
       "      <td>0</td>\n",
       "      <td>0</td>\n",
       "    </tr>\n",
       "  </tbody>\n",
       "</table>\n",
       "<p>13724 rows × 44 columns</p>\n",
       "</div>"
      ],
      "text/plain": [
       "       Year            Player     G    GS      MP     FG    FGA       FG%  \\\n",
       "0      1980        Chris Ford  73.0  73.0  2115.0  330.0  709.0  0.465444   \n",
       "1      1980       Dave Cowens  66.0  55.0  2159.0  422.0  932.0  0.452790   \n",
       "2      1980        Don Chaney  60.0   0.0   523.0   67.0  189.0  0.354497   \n",
       "3      1980  Gerald Henderson  76.0   2.0  1061.0  191.0  382.0  0.500000   \n",
       "4      1980      Jeff Judkins  65.0   0.0   674.0  139.0  276.0  0.503623   \n",
       "...     ...               ...   ...   ...     ...    ...    ...       ...   \n",
       "13719  2019      Zach Collins  77.0   0.0    17.6    2.5    5.2  0.480769   \n",
       "13720  2019       Zach LaVine  63.0  62.0    34.5    8.4   18.0  0.466667   \n",
       "13721  2019     Zaza Pachulia  68.0   3.0    12.9    1.3    2.8  0.464286   \n",
       "13722  2019      Zhaire Smith   6.0   2.0    18.5    2.3    5.7  0.403509   \n",
       "13723  2019      Álex Abrines  31.0   2.0    19.0    1.8    5.1  0.352941   \n",
       "\n",
       "         3P    3PA  ...  Pos_PG  Pos_PG-SF  Pos_PG-SG  Pos_SF  Pos_SF-PF  \\\n",
       "0      70.0  164.0  ...       0          0          0       0          0   \n",
       "1       1.0   12.0  ...       0          0          0       0          0   \n",
       "2       1.0    6.0  ...       0          0          0       0          0   \n",
       "3       2.0    6.0  ...       1          0          0       0          0   \n",
       "4      11.0   27.0  ...       0          0          0       1          0   \n",
       "...     ...    ...  ...     ...        ...        ...     ...        ...   \n",
       "13719   0.5    1.6  ...       0          0          0       0          0   \n",
       "13720   1.9    5.1  ...       0          0          0       0          0   \n",
       "13721   0.0    0.1  ...       0          0          0       0          0   \n",
       "13722   1.0    2.7  ...       0          0          0       0          0   \n",
       "13723   1.3    4.1  ...       0          0          0       0          0   \n",
       "\n",
       "       Pos_SF-SG  Pos_SG  Pos_SG-PF  Pos_SG-PG  Pos_SG-SF  \n",
       "0              0       1          0          0          0  \n",
       "1              0       0          0          0          0  \n",
       "2              0       1          0          0          0  \n",
       "3              0       0          0          0          0  \n",
       "4              0       0          0          0          0  \n",
       "...          ...     ...        ...        ...        ...  \n",
       "13719          0       0          0          0          0  \n",
       "13720          0       1          0          0          0  \n",
       "13721          0       0          0          0          0  \n",
       "13722          0       1          0          0          0  \n",
       "13723          0       1          0          0          0  \n",
       "\n",
       "[13724 rows x 44 columns]"
      ]
     },
     "execution_count": 112,
     "metadata": {},
     "output_type": "execute_result"
    }
   ],
   "source": [
    "players"
   ]
  },
  {
   "cell_type": "code",
   "execution_count": 117,
   "metadata": {},
   "outputs": [],
   "source": [
    "# Splits data on 1999 where the five second rule was implemented.\n",
    "# Five second rule makes the game go faster forcing players to make decisions faster.\n",
    "pre_rule = players[players['Year']<=1999]\n",
    "post_rule = players[players['Year']>1999]"
   ]
  },
  {
   "cell_type": "code",
   "execution_count": 118,
   "metadata": {},
   "outputs": [
    {
     "data": {
      "text/plain": [
       "(5578, 44)"
      ]
     },
     "execution_count": 118,
     "metadata": {},
     "output_type": "execute_result"
    }
   ],
   "source": [
    "pre_rule.shape"
   ]
  },
  {
   "cell_type": "code",
   "execution_count": 119,
   "metadata": {},
   "outputs": [
    {
     "data": {
      "text/plain": [
       "(8146, 44)"
      ]
     },
     "execution_count": 119,
     "metadata": {},
     "output_type": "execute_result"
    }
   ],
   "source": [
    "post_rule.shape"
   ]
  },
  {
   "cell_type": "markdown",
   "metadata": {},
   "source": [
    "# EDA"
   ]
  },
  {
   "cell_type": "code",
   "execution_count": 120,
   "metadata": {},
   "outputs": [
    {
     "data": {
      "text/plain": [
       "Index(['Year', 'Player', 'G', 'GS', 'MP', 'FG', 'FGA', 'FG%', '3P', '3PA',\n",
       "       '3P%', '2P', '2PA', '2P%', 'eFG%', 'FT', 'FTA', 'FT%', 'ORB', 'DRB',\n",
       "       'TRB', 'AST', 'STL', 'BLK', 'TOV', 'PF', 'PTS', 'HF', 'Pos_C',\n",
       "       'Pos_C-PF', 'Pos_C-SF', 'Pos_PF', 'Pos_PF-C', 'Pos_PF-SF', 'Pos_PG',\n",
       "       'Pos_PG-SF', 'Pos_PG-SG', 'Pos_SF', 'Pos_SF-PF', 'Pos_SF-SG', 'Pos_SG',\n",
       "       'Pos_SG-PF', 'Pos_SG-PG', 'Pos_SG-SF'],\n",
       "      dtype='object')"
      ]
     },
     "execution_count": 120,
     "metadata": {},
     "output_type": "execute_result"
    }
   ],
   "source": [
    "players.columns"
   ]
  },
  {
   "cell_type": "code",
   "execution_count": 121,
   "metadata": {},
   "outputs": [],
   "source": [
    "pos_pre = pre_rule[['Pos_C',\n",
    "       'Pos_C-PF', 'Pos_C-SF', 'Pos_PF', 'Pos_PF-C', 'Pos_PF-SF', 'Pos_PG',\n",
    "       'Pos_PG-SF', 'Pos_PG-SG', 'Pos_SF', 'Pos_SF-PF', 'Pos_SF-SG', 'Pos_SG',\n",
    "       'Pos_SG-PF', 'Pos_SG-PG', 'Pos_SG-SF']]\n",
    "pos_post = post_rule[['Pos_C',\n",
    "       'Pos_C-PF', 'Pos_C-SF', 'Pos_PF', 'Pos_PF-C', 'Pos_PF-SF', 'Pos_PG',\n",
    "       'Pos_PG-SF', 'Pos_PG-SG', 'Pos_SF', 'Pos_SF-PF', 'Pos_SF-SG', 'Pos_SG',\n",
    "       'Pos_SG-PF', 'Pos_SG-PG', 'Pos_SG-SF']]"
   ]
  },
  {
   "cell_type": "code",
   "execution_count": 125,
   "metadata": {},
   "outputs": [
    {
     "name": "stderr",
     "output_type": "stream",
     "text": [
      "/opt/anaconda3/lib/python3.7/site-packages/ipykernel_launcher.py:8: UserWarning: FixedFormatter should only be used together with FixedLocator\n",
      "  \n"
     ]
    },
    {
     "data": {
      "image/png": "[encoded data removed]",
      "text/plain": [
       "<Figure size 864x432 with 1 Axes>"
      ]
     },
     "metadata": {
      "needs_background": "light"
     },
     "output_type": "display_data"
    }
   ],
   "source": [
    "fig, ax = plt.subplots(figsize=(12, 6))\n",
    "ax.bar(pos_pre.columns, pos_pre.sum(), color='blue', alpha=0.3, label='1980-1999')\n",
    "ax.bar(pos_post.columns, pos_post.sum(), color='green', alpha=0.3, label='2000-2019')\n",
    "\n",
    "ax.set_title('Players by Positions')\n",
    "ax.set_xlabel('Positions')\n",
    "ax.set_ylabel('Number of Players')\n",
    "ax.set_xticklabels(pos_pre.columns, rotation=45)\n",
    "\n",
    "ax.legend();"
   ]
  },
  {
   "cell_type": "markdown",
   "metadata": {},
   "source": [
    "__There are more players overall, which is to be expected since the organization is growing. However, there appears to be more of these 'flexible' players that can play more than one position.__"
   ]
  },
  {
   "cell_type": "markdown",
   "metadata": {},
   "source": [
    "__C__: Center, 5 (ie. Shaquille O'Neal)\n",
    "\n",
    "__PF__: Power Foward, 4 (ie. Chris Bosh)\n",
    "\n",
    "__SF__: Small Foward, 3 (ie. Kawhi Leonard)\n",
    "\n",
    "__SG__: Shooting Guard, 2 (ie. Klay Thompson)\n",
    "\n",
    "__PG__: Point Guard, 1 (ie. Stephen Curry)"
   ]
  },
  {
   "cell_type": "code",
   "execution_count": 189,
   "metadata": {},
   "outputs": [
    {
     "data": {
      "image/png": "[encoded data removed]",
      "text/plain": [
       "<Figure size 864x432 with 1 Axes>"
      ]
     },
     "metadata": {
      "needs_background": "light"
     },
     "output_type": "display_data"
    }
   ],
   "source": [
    "fig, ax = plt.subplots(figsize=(12, 6))\n",
    "ax.hist(pre_rule['FG%'], bins=30, color='blue', alpha=0.3, label='1980-1999')\n",
    "ax.hist(post_rule['FG%'], bins=30, color='green', alpha=0.3, label='2000-2019')\n",
    "\n",
    "ax.axvline(pre_rule['FG%'].mean(), color='blue', linestyle='dashed', label='Average for 1980-1999')\n",
    "ax.axvline(post_rule['FG%'].mean(), color='green', linestyle='dashed', label='Average for 2000-2019')\n",
    "\n",
    "ax.set_title('Distribution of Field Goal Percentage')\n",
    "ax.set_xlabel('%')\n",
    "ax.set_ylabel('Frequency')\n",
    "\n",
    "ax.legend();"
   ]
  },
  {
   "cell_type": "markdown",
   "metadata": {},
   "source": [
    "__It appears that the field goal percentage (probability that a player will make a shot assuming all) decreased.__"
   ]
  },
  {
   "cell_type": "code",
   "execution_count": 190,
   "metadata": {},
   "outputs": [
    {
     "data": {
      "image/png": "[encoded data removed]",
      "text/plain": [
       "<Figure size 864x432 with 1 Axes>"
      ]
     },
     "metadata": {
      "needs_background": "light"
     },
     "output_type": "display_data"
    }
   ],
   "source": [
    "fig, ax = plt.subplots(figsize=(12, 6))\n",
    "ax.hist(pre_rule['eFG%'], bins=30, color='blue', alpha=0.3, label='1980-1999')\n",
    "ax.hist(post_rule['eFG%'], bins=30, color='green', alpha=0.3, label='2000-2019')\n",
    "\n",
    "ax.axvline(pre_rule['eFG%'].mean(), color='blue', linestyle='dashed', label='Average for 1980-1999')\n",
    "ax.axvline(post_rule['eFG%'].mean(), color='green', linestyle='dashed', label='Average for 2000-2019')\n",
    "\n",
    "ax.set_title('Distribution of Effective Field Goal Percentage')\n",
    "ax.set_xlabel('%')\n",
    "ax.set_ylabel('Frequency')\n",
    "\n",
    "ax.legend();"
   ]
  },
  {
   "cell_type": "code",
   "execution_count": 191,
   "metadata": {},
   "outputs": [
    {
     "data": {
      "image/png": "[encoded data removed]",
      "text/plain": [
       "<Figure size 864x432 with 1 Axes>"
      ]
     },
     "metadata": {
      "needs_background": "light"
     },
     "output_type": "display_data"
    }
   ],
   "source": [
    "fig, ax = plt.subplots(figsize=(12, 6))\n",
    "ax.hist(pre_rule['3PA'], bins=30, color='blue', alpha=0.3, label='1980-1999')\n",
    "ax.hist(post_rule['3PA'], bins=30, color='green', alpha=0.3, label='2000-2019')\n",
    "\n",
    "ax.axvline(pre_rule['3PA'].median(), color='blue', linestyle='dashed', label='Median for 1980-1999')\n",
    "ax.axvline(post_rule['3PA'].median(), color='green', linestyle='dashed', label='Median for 2000-2019')\n",
    "\n",
    "ax.set_title('Distribution of 3-Point Attempts')\n",
    "ax.set_xlabel('3-Point Shots')\n",
    "ax.set_ylabel('Frequency')\n",
    "\n",
    "ax.legend();"
   ]
  },
  {
   "cell_type": "code",
   "execution_count": 192,
   "metadata": {},
   "outputs": [
    {
     "data": {
      "image/png": "[encoded data removed]",
      "text/plain": [
       "<Figure size 864x432 with 1 Axes>"
      ]
     },
     "metadata": {
      "needs_background": "light"
     },
     "output_type": "display_data"
    }
   ],
   "source": [
    "fig, ax = plt.subplots(figsize=(12, 6))\n",
    "ax.hist(pre_rule['3P%'], bins=30, color='blue', alpha=0.3, label='1980-1999')\n",
    "ax.hist(post_rule['3P%'], bins=30, color='green', alpha=0.3, label='2000-2019')\n",
    "\n",
    "ax.axvline(pre_rule['3P%'].median(), color='blue', linestyle='dashed', label='Median for 1980-1999')\n",
    "ax.axvline(post_rule['3P%'].median(), color='green', linestyle='dashed', label='Median for 2000-2019')\n",
    "\n",
    "ax.set_title('Distribution of 3-Point Attempts')\n",
    "ax.set_xlabel('%')\n",
    "ax.set_ylabel('Frequency')\n",
    "\n",
    "ax.legend();"
   ]
  },
  {
   "cell_type": "markdown",
   "metadata": {},
   "source": [
    "__The 3-point line was implemented in 1980, so players from the early 1980's were not used to shooting from that far away. Number of 3-point attempts and 3-point percentages increased.__"
   ]
  },
  {
   "cell_type": "markdown",
   "metadata": {},
   "source": [
    "# Build Model"
   ]
  },
  {
   "cell_type": "code",
   "execution_count": null,
   "metadata": {},
   "outputs": [],
   "source": [
    "# Five-second rule implementation in 1999-2000\n",
    "# Use PCA to reduce dimensions and then cluster"
   ]
  },
  {
   "cell_type": "code",
   "execution_count": 43,
   "metadata": {},
   "outputs": [],
   "source": [
    "data = players.drop(['Year', 'Player'], axis=1)"
   ]
  },
  {
   "cell_type": "code",
   "execution_count": 44,
   "metadata": {},
   "outputs": [
    {
     "data": {
      "text/html": [
       "<div>\n",
       "<style scoped>\n",
       "    .dataframe tbody tr th:only-of-type {\n",
       "        vertical-align: middle;\n",
       "    }\n",
       "\n",
       "    .dataframe tbody tr th {\n",
       "        vertical-align: top;\n",
       "    }\n",
       "\n",
       "    .dataframe thead th {\n",
       "        text-align: right;\n",
       "    }\n",
       "</style>\n",
       "<table border=\"1\" class=\"dataframe\">\n",
       "  <thead>\n",
       "    <tr style=\"text-align: right;\">\n",
       "      <th></th>\n",
       "      <th>Age</th>\n",
       "      <th>G</th>\n",
       "      <th>GS</th>\n",
       "      <th>MP</th>\n",
       "      <th>FG</th>\n",
       "      <th>FGA</th>\n",
       "      <th>FG%</th>\n",
       "      <th>3P</th>\n",
       "      <th>3PA</th>\n",
       "      <th>3P%</th>\n",
       "      <th>...</th>\n",
       "      <th>FT%</th>\n",
       "      <th>ORB</th>\n",
       "      <th>DRB</th>\n",
       "      <th>TRB</th>\n",
       "      <th>AST</th>\n",
       "      <th>STL</th>\n",
       "      <th>BLK</th>\n",
       "      <th>TOV</th>\n",
       "      <th>PF</th>\n",
       "      <th>PTS</th>\n",
       "    </tr>\n",
       "  </thead>\n",
       "  <tbody>\n",
       "    <tr>\n",
       "      <th>0</th>\n",
       "      <td>31.0</td>\n",
       "      <td>73.0</td>\n",
       "      <td>73.0</td>\n",
       "      <td>2115.0</td>\n",
       "      <td>330.0</td>\n",
       "      <td>709.0</td>\n",
       "      <td>0.465444</td>\n",
       "      <td>70.0</td>\n",
       "      <td>164.0</td>\n",
       "      <td>0.426829</td>\n",
       "      <td>...</td>\n",
       "      <td>0.754386</td>\n",
       "      <td>77.0</td>\n",
       "      <td>104.0</td>\n",
       "      <td>181.0</td>\n",
       "      <td>215.0</td>\n",
       "      <td>111.0</td>\n",
       "      <td>27.0</td>\n",
       "      <td>105.0</td>\n",
       "      <td>178.0</td>\n",
       "      <td>816.0</td>\n",
       "    </tr>\n",
       "    <tr>\n",
       "      <th>1</th>\n",
       "      <td>31.0</td>\n",
       "      <td>66.0</td>\n",
       "      <td>55.0</td>\n",
       "      <td>2159.0</td>\n",
       "      <td>422.0</td>\n",
       "      <td>932.0</td>\n",
       "      <td>0.452790</td>\n",
       "      <td>1.0</td>\n",
       "      <td>12.0</td>\n",
       "      <td>0.083333</td>\n",
       "      <td>...</td>\n",
       "      <td>0.778689</td>\n",
       "      <td>126.0</td>\n",
       "      <td>408.0</td>\n",
       "      <td>534.0</td>\n",
       "      <td>206.0</td>\n",
       "      <td>69.0</td>\n",
       "      <td>61.0</td>\n",
       "      <td>108.0</td>\n",
       "      <td>216.0</td>\n",
       "      <td>940.0</td>\n",
       "    </tr>\n",
       "    <tr>\n",
       "      <th>2</th>\n",
       "      <td>33.0</td>\n",
       "      <td>60.0</td>\n",
       "      <td>0.0</td>\n",
       "      <td>523.0</td>\n",
       "      <td>67.0</td>\n",
       "      <td>189.0</td>\n",
       "      <td>0.354497</td>\n",
       "      <td>1.0</td>\n",
       "      <td>6.0</td>\n",
       "      <td>0.166667</td>\n",
       "      <td>...</td>\n",
       "      <td>0.761905</td>\n",
       "      <td>31.0</td>\n",
       "      <td>42.0</td>\n",
       "      <td>73.0</td>\n",
       "      <td>38.0</td>\n",
       "      <td>31.0</td>\n",
       "      <td>11.0</td>\n",
       "      <td>33.0</td>\n",
       "      <td>80.0</td>\n",
       "      <td>167.0</td>\n",
       "    </tr>\n",
       "    <tr>\n",
       "      <th>3</th>\n",
       "      <td>24.0</td>\n",
       "      <td>76.0</td>\n",
       "      <td>2.0</td>\n",
       "      <td>1061.0</td>\n",
       "      <td>191.0</td>\n",
       "      <td>382.0</td>\n",
       "      <td>0.500000</td>\n",
       "      <td>2.0</td>\n",
       "      <td>6.0</td>\n",
       "      <td>0.333333</td>\n",
       "      <td>...</td>\n",
       "      <td>0.689922</td>\n",
       "      <td>37.0</td>\n",
       "      <td>46.0</td>\n",
       "      <td>83.0</td>\n",
       "      <td>147.0</td>\n",
       "      <td>45.0</td>\n",
       "      <td>15.0</td>\n",
       "      <td>109.0</td>\n",
       "      <td>96.0</td>\n",
       "      <td>473.0</td>\n",
       "    </tr>\n",
       "    <tr>\n",
       "      <th>4</th>\n",
       "      <td>23.0</td>\n",
       "      <td>65.0</td>\n",
       "      <td>0.0</td>\n",
       "      <td>674.0</td>\n",
       "      <td>139.0</td>\n",
       "      <td>276.0</td>\n",
       "      <td>0.503623</td>\n",
       "      <td>11.0</td>\n",
       "      <td>27.0</td>\n",
       "      <td>0.407407</td>\n",
       "      <td>...</td>\n",
       "      <td>0.815789</td>\n",
       "      <td>32.0</td>\n",
       "      <td>34.0</td>\n",
       "      <td>66.0</td>\n",
       "      <td>47.0</td>\n",
       "      <td>29.0</td>\n",
       "      <td>5.0</td>\n",
       "      <td>49.0</td>\n",
       "      <td>91.0</td>\n",
       "      <td>351.0</td>\n",
       "    </tr>\n",
       "    <tr>\n",
       "      <th>...</th>\n",
       "      <td>...</td>\n",
       "      <td>...</td>\n",
       "      <td>...</td>\n",
       "      <td>...</td>\n",
       "      <td>...</td>\n",
       "      <td>...</td>\n",
       "      <td>...</td>\n",
       "      <td>...</td>\n",
       "      <td>...</td>\n",
       "      <td>...</td>\n",
       "      <td>...</td>\n",
       "      <td>...</td>\n",
       "      <td>...</td>\n",
       "      <td>...</td>\n",
       "      <td>...</td>\n",
       "      <td>...</td>\n",
       "      <td>...</td>\n",
       "      <td>...</td>\n",
       "      <td>...</td>\n",
       "      <td>...</td>\n",
       "      <td>...</td>\n",
       "    </tr>\n",
       "    <tr>\n",
       "      <th>13389</th>\n",
       "      <td>21.0</td>\n",
       "      <td>77.0</td>\n",
       "      <td>0.0</td>\n",
       "      <td>17.6</td>\n",
       "      <td>2.5</td>\n",
       "      <td>5.2</td>\n",
       "      <td>0.480769</td>\n",
       "      <td>0.5</td>\n",
       "      <td>1.6</td>\n",
       "      <td>0.312500</td>\n",
       "      <td>...</td>\n",
       "      <td>0.750000</td>\n",
       "      <td>1.4</td>\n",
       "      <td>2.8</td>\n",
       "      <td>4.2</td>\n",
       "      <td>0.9</td>\n",
       "      <td>0.3</td>\n",
       "      <td>0.9</td>\n",
       "      <td>1.0</td>\n",
       "      <td>2.3</td>\n",
       "      <td>6.6</td>\n",
       "    </tr>\n",
       "    <tr>\n",
       "      <th>13390</th>\n",
       "      <td>23.0</td>\n",
       "      <td>63.0</td>\n",
       "      <td>62.0</td>\n",
       "      <td>34.5</td>\n",
       "      <td>8.4</td>\n",
       "      <td>18.0</td>\n",
       "      <td>0.466667</td>\n",
       "      <td>1.9</td>\n",
       "      <td>5.1</td>\n",
       "      <td>0.372549</td>\n",
       "      <td>...</td>\n",
       "      <td>0.833333</td>\n",
       "      <td>0.6</td>\n",
       "      <td>4.0</td>\n",
       "      <td>4.7</td>\n",
       "      <td>4.5</td>\n",
       "      <td>1.0</td>\n",
       "      <td>0.4</td>\n",
       "      <td>3.4</td>\n",
       "      <td>2.2</td>\n",
       "      <td>23.7</td>\n",
       "    </tr>\n",
       "    <tr>\n",
       "      <th>13391</th>\n",
       "      <td>34.0</td>\n",
       "      <td>68.0</td>\n",
       "      <td>3.0</td>\n",
       "      <td>12.9</td>\n",
       "      <td>1.3</td>\n",
       "      <td>2.8</td>\n",
       "      <td>0.464286</td>\n",
       "      <td>0.0</td>\n",
       "      <td>0.1</td>\n",
       "      <td>0.000000</td>\n",
       "      <td>...</td>\n",
       "      <td>0.777778</td>\n",
       "      <td>1.5</td>\n",
       "      <td>2.4</td>\n",
       "      <td>3.9</td>\n",
       "      <td>1.3</td>\n",
       "      <td>0.5</td>\n",
       "      <td>0.3</td>\n",
       "      <td>0.8</td>\n",
       "      <td>2.2</td>\n",
       "      <td>3.9</td>\n",
       "    </tr>\n",
       "    <tr>\n",
       "      <th>13392</th>\n",
       "      <td>19.0</td>\n",
       "      <td>6.0</td>\n",
       "      <td>2.0</td>\n",
       "      <td>18.5</td>\n",
       "      <td>2.3</td>\n",
       "      <td>5.7</td>\n",
       "      <td>0.403509</td>\n",
       "      <td>1.0</td>\n",
       "      <td>2.7</td>\n",
       "      <td>0.370370</td>\n",
       "      <td>...</td>\n",
       "      <td>0.769231</td>\n",
       "      <td>0.5</td>\n",
       "      <td>1.7</td>\n",
       "      <td>2.2</td>\n",
       "      <td>1.7</td>\n",
       "      <td>0.3</td>\n",
       "      <td>0.3</td>\n",
       "      <td>1.0</td>\n",
       "      <td>1.3</td>\n",
       "      <td>6.7</td>\n",
       "    </tr>\n",
       "    <tr>\n",
       "      <th>13393</th>\n",
       "      <td>25.0</td>\n",
       "      <td>31.0</td>\n",
       "      <td>2.0</td>\n",
       "      <td>19.0</td>\n",
       "      <td>1.8</td>\n",
       "      <td>5.1</td>\n",
       "      <td>0.352941</td>\n",
       "      <td>1.3</td>\n",
       "      <td>4.1</td>\n",
       "      <td>0.317073</td>\n",
       "      <td>...</td>\n",
       "      <td>1.000000</td>\n",
       "      <td>0.2</td>\n",
       "      <td>1.4</td>\n",
       "      <td>1.5</td>\n",
       "      <td>0.6</td>\n",
       "      <td>0.5</td>\n",
       "      <td>0.2</td>\n",
       "      <td>0.5</td>\n",
       "      <td>1.7</td>\n",
       "      <td>5.3</td>\n",
       "    </tr>\n",
       "  </tbody>\n",
       "</table>\n",
       "<p>13355 rows × 26 columns</p>\n",
       "</div>"
      ],
      "text/plain": [
       "        Age     G    GS      MP     FG    FGA       FG%    3P    3PA  \\\n",
       "0      31.0  73.0  73.0  2115.0  330.0  709.0  0.465444  70.0  164.0   \n",
       "1      31.0  66.0  55.0  2159.0  422.0  932.0  0.452790   1.0   12.0   \n",
       "2      33.0  60.0   0.0   523.0   67.0  189.0  0.354497   1.0    6.0   \n",
       "3      24.0  76.0   2.0  1061.0  191.0  382.0  0.500000   2.0    6.0   \n",
       "4      23.0  65.0   0.0   674.0  139.0  276.0  0.503623  11.0   27.0   \n",
       "...     ...   ...   ...     ...    ...    ...       ...   ...    ...   \n",
       "13389  21.0  77.0   0.0    17.6    2.5    5.2  0.480769   0.5    1.6   \n",
       "13390  23.0  63.0  62.0    34.5    8.4   18.0  0.466667   1.9    5.1   \n",
       "13391  34.0  68.0   3.0    12.9    1.3    2.8  0.464286   0.0    0.1   \n",
       "13392  19.0   6.0   2.0    18.5    2.3    5.7  0.403509   1.0    2.7   \n",
       "13393  25.0  31.0   2.0    19.0    1.8    5.1  0.352941   1.3    4.1   \n",
       "\n",
       "            3P%  ...       FT%    ORB    DRB    TRB    AST    STL   BLK  \\\n",
       "0      0.426829  ...  0.754386   77.0  104.0  181.0  215.0  111.0  27.0   \n",
       "1      0.083333  ...  0.778689  126.0  408.0  534.0  206.0   69.0  61.0   \n",
       "2      0.166667  ...  0.761905   31.0   42.0   73.0   38.0   31.0  11.0   \n",
       "3      0.333333  ...  0.689922   37.0   46.0   83.0  147.0   45.0  15.0   \n",
       "4      0.407407  ...  0.815789   32.0   34.0   66.0   47.0   29.0   5.0   \n",
       "...         ...  ...       ...    ...    ...    ...    ...    ...   ...   \n",
       "13389  0.312500  ...  0.750000    1.4    2.8    4.2    0.9    0.3   0.9   \n",
       "13390  0.372549  ...  0.833333    0.6    4.0    4.7    4.5    1.0   0.4   \n",
       "13391  0.000000  ...  0.777778    1.5    2.4    3.9    1.3    0.5   0.3   \n",
       "13392  0.370370  ...  0.769231    0.5    1.7    2.2    1.7    0.3   0.3   \n",
       "13393  0.317073  ...  1.000000    0.2    1.4    1.5    0.6    0.5   0.2   \n",
       "\n",
       "         TOV     PF    PTS  \n",
       "0      105.0  178.0  816.0  \n",
       "1      108.0  216.0  940.0  \n",
       "2       33.0   80.0  167.0  \n",
       "3      109.0   96.0  473.0  \n",
       "4       49.0   91.0  351.0  \n",
       "...      ...    ...    ...  \n",
       "13389    1.0    2.3    6.6  \n",
       "13390    3.4    2.2   23.7  \n",
       "13391    0.8    2.2    3.9  \n",
       "13392    1.0    1.3    6.7  \n",
       "13393    0.5    1.7    5.3  \n",
       "\n",
       "[13355 rows x 26 columns]"
      ]
     },
     "execution_count": 44,
     "metadata": {},
     "output_type": "execute_result"
    }
   ],
   "source": [
    "data"
   ]
  },
  {
   "cell_type": "code",
   "execution_count": 45,
   "metadata": {},
   "outputs": [],
   "source": [
    "y_pred = KMeans(n_clusters=5, random_state=1).fit_predict(data)"
   ]
  },
  {
   "cell_type": "code",
   "execution_count": 46,
   "metadata": {},
   "outputs": [
    {
     "data": {
      "image/png": "[encoded data removed]",
      "text/plain": [
       "<Figure size 432x288 with 1 Axes>"
      ]
     },
     "metadata": {
      "needs_background": "light"
     },
     "output_type": "display_data"
    }
   ],
   "source": [
    "plt.scatter(data['TOV'], data['AST'], c=y_pred);"
   ]
  },
  {
   "cell_type": "code",
   "execution_count": 52,
   "metadata": {},
   "outputs": [],
   "source": [
    "data_scaled = StandardScaler().fit_transform(data)"
   ]
  },
  {
   "cell_type": "code",
   "execution_count": 53,
   "metadata": {},
   "outputs": [],
   "source": [
    "pca = PCA(n_components=10).fit(data_scaled)"
   ]
  },
  {
   "cell_type": "code",
   "execution_count": 54,
   "metadata": {},
   "outputs": [],
   "source": [
    "def scree_plot(ax, pca, n_components_to_plot=8, title=None):\n",
    "    num_components = pca.n_components_\n",
    "    ind = np.arange(num_components)\n",
    "    vals = pca.explained_variance_ratio_\n",
    "    ax.plot(ind, vals, color='blue')\n",
    "    ax.scatter(ind, vals, color='blue', s=50)\n",
    "    for i in range(num_components):\n",
    "        ax.annotate(r\"{:2.2f}\".format(vals[i]),\n",
    "                    (ind[i]+0.2, vals[i]+0.005),\n",
    "                    va=\"bottom\", ha=\"center\", fontsize=12)\n",
    "    ax.set_xticklabels(ind, fontsize=12)\n",
    "    ax.set_ylim(0, max(vals) + 0.05)\n",
    "    ax.set_xlim(0 - 0.45, n_components_to_plot + 0.45)\n",
    "    ax.set_xlabel(\"Principal Component\", fontsize=12)\n",
    "    ax.set_ylabel(\"Variance Explained\", fontsize=12)\n",
    "    if title is not None:\n",
    "        ax.set_title(title, fontsize=16)"
   ]
  },
  {
   "cell_type": "code",
   "execution_count": 56,
   "metadata": {},
   "outputs": [
    {
     "data": {
      "text/plain": [
       "Index(['Age', 'G', 'GS', 'MP', 'FG', 'FGA', 'FG%', '3P', '3PA', '3P%', '2P',\n",
       "       '2PA', '2P%', 'eFG%', 'FT', 'FTA', 'FT%', 'ORB', 'DRB', 'TRB', 'AST',\n",
       "       'STL', 'BLK', 'TOV', 'PF', 'PTS'],\n",
       "      dtype='object')"
      ]
     },
     "execution_count": 56,
     "metadata": {},
     "output_type": "execute_result"
    }
   ],
   "source": [
    "data.columns"
   ]
  },
  {
   "cell_type": "code",
   "execution_count": 66,
   "metadata": {},
   "outputs": [],
   "source": [
    "PCA_components = pca.components_[0:2]"
   ]
  },
  {
   "cell_type": "code",
   "execution_count": 36,
   "metadata": {},
   "outputs": [
    {
     "name": "stderr",
     "output_type": "stream",
     "text": [
      "/opt/anaconda3/lib/python3.7/site-packages/ipykernel_launcher.py:11: UserWarning: FixedFormatter should only be used together with FixedLocator\n",
      "  # This is added back by InteractiveShellApp.init_path()\n"
     ]
    },
    {
     "data": {
      "image/png": "[encoded data removed]",
      "text/plain": [
       "<Figure size 432x288 with 1 Axes>"
      ]
     },
     "metadata": {
      "needs_background": "light"
     },
     "output_type": "display_data"
    }
   ],
   "source": [
    "fig, ax = plt.subplots()\n",
    "scree_plot(ax, pca);"
   ]
  },
  {
   "cell_type": "code",
   "execution_count": 69,
   "metadata": {},
   "outputs": [
    {
     "data": {
      "text/plain": [
       "Text(0, 0.5, 'PCA 2')"
      ]
     },
     "execution_count": 69,
     "metadata": {},
     "output_type": "execute_result"
    },
    {
     "data": {
      "image/png": "[encoded data removed]",
      "text/plain": [
       "<Figure size 432x288 with 1 Axes>"
      ]
     },
     "metadata": {
      "needs_background": "light"
     },
     "output_type": "display_data"
    }
   ],
   "source": [
    "plt.scatter(PCA_components[0], PCA_components[1], alpha=.1, color='black')\n",
    "plt.xlabel('PCA 1')\n",
    "plt.ylabel('PCA 2')"
   ]
  },
  {
   "cell_type": "code",
   "execution_count": null,
   "metadata": {},
   "outputs": [],
   "source": []
  }
 ],
 "metadata": {
  "kernelspec": {
   "display_name": "Python 3",
   "language": "python",
   "name": "python3"
  },
  "language_info": {
   "codemirror_mode": {
    "name": "ipython",
    "version": 3
   },
   "file_extension": ".py",
   "mimetype": "text/x-python",
   "name": "python",
   "nbconvert_exporter": "python",
   "pygments_lexer": "ipython3",
   "version": "3.7.9"
  }
 },
 "nbformat": 4,
 "nbformat_minor": 4
}
